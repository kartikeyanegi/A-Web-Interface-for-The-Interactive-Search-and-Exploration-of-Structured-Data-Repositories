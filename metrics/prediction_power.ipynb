{
 "cells": [
  {
   "cell_type": "code",
   "execution_count": 3,
   "metadata": {},
   "outputs": [],
   "source": [
    "import numpy as np\n",
    "from math import sqrt\n"
   ]
  },
  {
   "cell_type": "code",
   "execution_count": 20,
   "metadata": {},
   "outputs": [
    {
     "data": {
      "text/plain": [
       "0.6985699678629191"
      ]
     },
     "execution_count": 20,
     "metadata": {},
     "output_type": "execute_result"
    }
   ],
   "source": [
    "vals = [0.68,\n",
    " 0.57,\n",
    " 0.68,\n",
    " 0.68,\n",
    " 0.65,\n",
    " 0.56,\n",
    " 0.24,\n",
    " 0.62,\n",
    " 0.65,\n",
    " 0.56,\n",
    " 0.24,\n",
    " 0.62,\n",
    " 0.69,\n",
    " 0.58,\n",
    " 0.31,\n",
    " -0.01,\n",
    " 0.59,\n",
    " 0.5,\n",
    " 0.53]\n",
    "rms = sqrt(sum(np.square(vals))/12.0)\n",
    "rms"
   ]
  },
  {
   "cell_type": "code",
   "execution_count": null,
   "metadata": {},
   "outputs": [],
   "source": []
  }
 ],
 "metadata": {
  "kernelspec": {
   "display_name": "Python 3",
   "language": "python",
   "name": "python3"
  },
  "language_info": {
   "codemirror_mode": {
    "name": "ipython",
    "version": 3
   },
   "file_extension": ".py",
   "mimetype": "text/x-python",
   "name": "python",
   "nbconvert_exporter": "python",
   "pygments_lexer": "ipython3",
   "version": "3.7.1"
  }
 },
 "nbformat": 4,
 "nbformat_minor": 2
}
